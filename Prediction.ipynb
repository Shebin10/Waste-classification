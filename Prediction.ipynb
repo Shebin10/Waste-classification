{
 "cells": [
  {
   "cell_type": "code",
   "execution_count": 43,
   "id": "d69d1991-d72d-489d-9db1-83dcb594d09d",
   "metadata": {},
   "outputs": [
    {
     "name": "stderr",
     "output_type": "stream",
     "text": [
      "WARNING:absl:Compiled the loaded model, but the compiled metrics have yet to be built. `model.compile_metrics` will be empty until you train or evaluate the model.\n"
     ]
    }
   ],
   "source": [
    "from tensorflow.keras.models import load_model\n",
    "from tensorflow.keras.preprocessing import image\n",
    "import numpy as np\n",
    "import os\n",
    "import cv2\n",
    "\n",
    "model = load_model('mobilenetv2_waste_classification.h5')"
   ]
  },
  {
   "cell_type": "code",
   "execution_count": 47,
   "id": "e28b8d59-25e4-4464-959d-062870dd7514",
   "metadata": {},
   "outputs": [
    {
     "name": "stdout",
     "output_type": "stream",
     "text": [
      "\u001b[1m1/1\u001b[0m \u001b[32m━━━━━━━━━━━━━━━━━━━━\u001b[0m\u001b[37m\u001b[0m \u001b[1m0s\u001b[0m 171ms/step\n",
      "Predicted class: battery waste\n"
     ]
    }
   ],
   "source": [
    "def predict_image(img_path):\n",
    "    img = image.load_img(img_path, target_size=IMG_SIZE)  \n",
    "    img_array = image.img_to_array(img)  \n",
    "    img_array = np.expand_dims(img_array, axis=0)  \n",
    "    img_array = img_array / 255.0 \n",
    "\n",
    "    #Prediction\n",
    "    predictions = model.predict(img_array)\n",
    "    predicted_class_index = np.argmax(predictions, axis=1)[0]  \n",
    "\n",
    "\n",
    "    train_dir = r\"C:\\Users\\ASUS\\Desktop\\wastes\\train\"\n",
    "    class_labels = sorted(os.listdir(train_dir)) \n",
    "\n",
    "    predicted_class = class_labels[predicted_class_index]\n",
    "\n",
    "    print(f\"Predicted class: {predicted_class}\")\n",
    "    \n",
    "    img_cv = cv2.imread(img_path)\n",
    "    cv2.putText(img_cv, predicted_class, (10, 25),\n",
    "                cv2.FONT_HERSHEY_SIMPLEX, 1, (0, 255, 0), 2)\n",
    "    img_resized = cv2.resize(img_cv, (800, 600))\n",
    "    cv2.imshow(\"Prediction\", img_resized)\n",
    "    cv2.waitKey(0)\n",
    "    cv2.destroyAllWindows()\n",
    "\n",
    "predict_image(r\"C:\\Users\\ASUS\\Desktop\\wastes\\test\\battery waste\\battery waste (12).jpg\")"
   ]
  },
  {
   "cell_type": "code",
   "execution_count": null,
   "id": "e59f3660-cdea-4cd7-ba9c-bc77f16c60ac",
   "metadata": {},
   "outputs": [],
   "source": []
  }
 ],
 "metadata": {
  "kernelspec": {
   "display_name": "Python [conda env:base] *",
   "language": "python",
   "name": "conda-base-py"
  },
  "language_info": {
   "codemirror_mode": {
    "name": "ipython",
    "version": 3
   },
   "file_extension": ".py",
   "mimetype": "text/x-python",
   "name": "python",
   "nbconvert_exporter": "python",
   "pygments_lexer": "ipython3",
   "version": "3.12.7"
  }
 },
 "nbformat": 4,
 "nbformat_minor": 5
}
